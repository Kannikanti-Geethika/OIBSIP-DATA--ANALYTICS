{
  "nbformat": 4,
  "nbformat_minor": 0,
  "metadata": {
    "colab": {
      "provenance": [],
      "authorship_tag": "ABX9TyOXcT4cn/hanDLiWBxHQDNE",
      "include_colab_link": true
    },
    "kernelspec": {
      "name": "python3",
      "display_name": "Python 3"
    },
    "language_info": {
      "name": "python"
    }
  },
  "cells": [
    {
      "cell_type": "markdown",
      "metadata": {
        "id": "view-in-github",
        "colab_type": "text"
      },
      "source": [
        "<a href=\"https://colab.research.google.com/github/Kannikanti-Geethika/OIBSIP-DATA--ANALYTICS/blob/main/Sentiment_Analysis_.ipynb\" target=\"_parent\"><img src=\"https://colab.research.google.com/assets/colab-badge.svg\" alt=\"Open In Colab\"/></a>"
      ]
    },
    {
      "cell_type": "code",
      "execution_count": 2,
      "metadata": {
        "colab": {
          "base_uri": "https://localhost:8080/"
        },
        "id": "3oyFt2zOjfz3",
        "outputId": "8fca2b26-b7df-4305-8081-5a24ee075c38"
      },
      "outputs": [
        {
          "output_type": "stream",
          "name": "stderr",
          "text": [
            "[nltk_data] Downloading package vader_lexicon to /root/nltk_data...\n",
            "[nltk_data]   Package vader_lexicon is already up-to-date!\n"
          ]
        },
        {
          "output_type": "stream",
          "name": "stdout",
          "text": [
            "Text: I'm having a fantastic day!\n",
            "\t- Neutrality: 0.435\n",
            "\t- Positive: 0.565\n",
            "\t- Negative: 0.0\n",
            "---\n",
            "Text: This is such a frustrating situation.\n",
            "\t- Neutrality: 0.58\n",
            "\t- Positive: 0.0\n",
            "\t- Negative: 0.42\n",
            "---\n",
            "Text: I feel a bit anxious about the upcoming exam.\n",
            "\t- Neutrality: 0.75\n",
            "\t- Positive: 0.0\n",
            "\t- Negative: 0.25\n",
            "---\n",
            "Text: There's no need to be sad, everything will be alright.\n",
            "\t- Neutrality: 0.49\n",
            "\t- Positive: 0.14\n",
            "\t- Negative: 0.371\n",
            "---\n",
            "Text: The movie was absolutely hilarious, I laughed non-stop.\n",
            "\t- Neutrality: 0.444\n",
            "\t- Positive: 0.556\n",
            "\t- Negative: 0.0\n",
            "---\n",
            "Enter a sentence: food is good\n",
            "Your sentence was analyzed as:\n",
            "{'neg': 0.0, 'neu': 0.408, 'pos': 0.592, 'compound': 0.4404}\n"
          ]
        }
      ],
      "source": [
        "# Sentiment Analysis\n",
        "\n",
        "# Import libraries\n",
        "import nltk\n",
        "from nltk.sentiment.vader import SentimentIntensityAnalyzer\n",
        "\n",
        "# Download necessary resources\n",
        "nltk.download('vader_lexicon')\n",
        "\n",
        "# Initialize sentiment analyzer\n",
        "analyzer = SentimentIntensityAnalyzer()\n",
        "\n",
        "# Define some sample text examples\n",
        "texts = [\n",
        "    \"I'm having a fantastic day!\",\n",
        "    \"This is such a frustrating situation.\",\n",
        "    \"I feel a bit anxious about the upcoming exam.\",\n",
        "    \"There's no need to be sad, everything will be alright.\",\n",
        "    \"The movie was absolutely hilarious, I laughed non-stop.\",\n",
        "]\n",
        "\n",
        "# Analyze each text and print results (excluding compound score)\n",
        "for text in texts:\n",
        "    score = analyzer.polarity_scores(text)\n",
        "    print(f\"Text: {text}\")\n",
        "    print(f\"\\t- Neutrality: {score['neu']}\")\n",
        "    print(f\"\\t- Positive: {score['pos']}\")\n",
        "    print(f\"\\t- Negative: {score['neg']}\")\n",
        "    print(\"---\")\n",
        "\n",
        "# Optionally, create a function to analyze any text input\n",
        "def analyze_emotion(text):\n",
        "    score = analyzer.polarity_scores(text)\n",
        "    # Do something with the scores, like classify emotion based on thresholds\n",
        "    # ...\n",
        "    return score\n",
        "\n",
        "# Test the function with user input\n",
        "user_text = input(\"Enter a sentence: \")\n",
        "analysis = analyze_emotion(user_text)\n",
        "print(f\"Your sentence was analyzed as:\")\n",
        "print(analysis)"
      ]
    }
  ]
}