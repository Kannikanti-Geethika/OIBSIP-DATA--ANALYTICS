{
  "nbformat": 4,
  "nbformat_minor": 0,
  "metadata": {
    "colab": {
      "provenance": [],
      "authorship_tag": "ABX9TyPd2uZqgHDj3Iz3/FUHaKzT",
      "include_colab_link": true
    },
    "kernelspec": {
      "name": "python3",
      "display_name": "Python 3"
    },
    "language_info": {
      "name": "python"
    }
  },
  "cells": [
    {
      "cell_type": "markdown",
      "metadata": {
        "id": "view-in-github",
        "colab_type": "text"
      },
      "source": [
        "<a href=\"https://colab.research.google.com/github/Kannikanti-Geethika/OIBSIP-DATA--ANALYTICS/blob/main/clean_Data.ipynb\" target=\"_parent\"><img src=\"https://colab.research.google.com/assets/colab-badge.svg\" alt=\"Open In Colab\"/></a>"
      ]
    },
    {
      "cell_type": "code",
      "execution_count": 1,
      "metadata": {
        "colab": {
          "base_uri": "https://localhost:8080/"
        },
        "id": "AhDd6yApj5Ar",
        "outputId": "b7760c6d-c551-43bd-fdb6-82820a5803fd"
      },
      "outputs": [
        {
          "output_type": "stream",
          "name": "stdout",
          "text": [
            "Initial Data:\n",
            "      Name   Age         City         Salary\n",
            "0     John  28.0     New York          50000\n",
            "1     Anna  22.0  Los Angeles          62000\n",
            "2     John  28.0     New York            NaN\n",
            "3      NaN  35.0      Chicago          58000\n",
            "4  Michael   NaN      Chicago          52000\n",
            "5     Sara  30.0          NaN          58000\n",
            "6     Anna  22.0  Los Angeles          62000\n",
            "7     Sara   NaN     New York          75000\n",
            "8      Sam  20.0      Chicago  not available\n",
            "9      Sam  20.0     New York          48000\n",
            "\n",
            "Data Types:\n",
            "Name       object\n",
            "Age       float64\n",
            "City       object\n",
            "Salary     object\n",
            "dtype: object\n",
            "\n",
            "Missing Values:\n",
            "Name      1\n",
            "Age       2\n",
            "City      1\n",
            "Salary    1\n",
            "dtype: int64\n",
            "\n",
            "Cleaned Data:\n",
            "      Name   Age         City   Salary\n",
            "0     John  28.0     New York  50000.0\n",
            "1     Anna  22.0  Los Angeles  62000.0\n",
            "2     John  28.0     New York      NaN\n",
            "3      NaN  35.0      Chicago  58000.0\n",
            "4  Michael  25.0      Chicago  52000.0\n",
            "5     Sara  30.0      Unknown  58000.0\n",
            "7     Sara  25.0     New York  75000.0\n",
            "8      Sam  20.0      Chicago      NaN\n",
            "9      Sam  20.0     New York  48000.0\n",
            "\n",
            "Data Types After Cleaning:\n",
            "Name       object\n",
            "Age       float64\n",
            "City       object\n",
            "Salary    float64\n",
            "dtype: object\n",
            "\n",
            "Missing Values After Cleaning:\n",
            "Name      1\n",
            "Age       0\n",
            "City      0\n",
            "Salary    2\n",
            "dtype: int64\n"
          ]
        }
      ],
      "source": [
        "#CLEAN DATA:\n",
        "# Step 1: Import Necessary Libraries\n",
        "import pandas as pd\n",
        "import numpy as np\n",
        "\n",
        "# Step 2: Load Data\n",
        "# uploaded = files.upload()\n",
        "# df = pd.read_csv('messy_data.csv')\n",
        "\n",
        "# For demonstration purposes, let's create a sample dataframe\n",
        "data = {\n",
        "    'Name': ['John', 'Anna', 'John', np.nan, 'Michael', 'Sara', 'Anna', 'Sara', 'Sam', 'Sam'],\n",
        "    'Age': [28, 22, 28, 35, np.nan, 30, 22, np.nan, 20, 20],\n",
        "    'City': ['New York', 'Los Angeles', 'New York', 'Chicago', 'Chicago', np.nan, 'Los Angeles', 'New York', 'Chicago', 'New York'],\n",
        "    'Salary': ['50000', '62000', np.nan, '58000', '52000', '58000', '62000', '75000', 'not available', '48000']\n",
        "}\n",
        "\n",
        "df = pd.DataFrame(data)\n",
        "\n",
        "# Step 3: Inspect Data\n",
        "print(\"Initial Data:\")\n",
        "print(df)\n",
        "print(\"\\nData Types:\")\n",
        "print(df.dtypes)\n",
        "print(\"\\nMissing Values:\")\n",
        "print(df.isnull().sum())\n",
        "\n",
        "# Step 4: Handle Missing Values\n",
        "# Option 1: Remove rows with missing values\n",
        "df_cleaned = df.dropna()\n",
        "\n",
        "# Option 2: Fill missing values with mean/median/mode or a specific value\n",
        "df['Age'].fillna(df['Age'].median(), inplace=True)\n",
        "df['City'].fillna('Unknown', inplace=True)\n",
        "\n",
        "# Step 5: Remove Duplicates\n",
        "df.drop_duplicates(inplace=True)\n",
        "\n",
        "# Step 6: Correct Data Types\n",
        "# Convert Salary to numeric, handling errors by setting them to NaN\n",
        "df['Salary'] = pd.to_numeric(df['Salary'], errors='coerce')\n",
        "\n",
        "# Step 7: Fix Inconsistencies\n",
        "# Standardize text data in the City column\n",
        "df['City'] = df['City'].str.title()\n",
        "\n",
        "# Step 8: Verify Clean Data\n",
        "print(\"\\nCleaned Data:\")\n",
        "print(df)\n",
        "print(\"\\nData Types After Cleaning:\")\n",
        "print(df.dtypes)\n",
        "print(\"\\nMissing Values After Cleaning:\")\n",
        "print(df.isnull().sum())"
      ]
    }
  ]
}